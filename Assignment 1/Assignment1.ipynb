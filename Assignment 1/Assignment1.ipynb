{
  "nbformat": 4,
  "nbformat_minor": 0,
  "metadata": {
    "colab": {
      "provenance": []
    },
    "kernelspec": {
      "name": "python3",
      "display_name": "Python 3"
    },
    "language_info": {
      "name": "python"
    }
  },
  "cells": [
    {
      "cell_type": "code",
      "source": [
        "def correct_program(A, B):\n",
        "    A = A - B\n",
        "    C = A * 2\n",
        "    return C"
      ],
      "metadata": {
        "id": "kZNVgXHhs1V7"
      },
      "execution_count": 1,
      "outputs": []
    },
    {
      "cell_type": "code",
      "source": [
        "def incorrect_programs(A, B):\n",
        "    incorrect_outputs = []\n",
        "\n",
        "    # Scenario 1: \"-\" operator is incorrect, \"*\" operator is correct\n",
        "    incorrect_outputs.append((A + B) * 2)\n",
        "    incorrect_outputs.append((A * B) * 2)\n",
        "    if (B != 0): # constraint: divisor cannot be 0\n",
        "        incorrect_outputs.append((A / B) * 2)\n",
        "\n",
        "    # Scenario 2: \"-\" operator is correct, \"*\" operator is incorrect\n",
        "    incorrect_outputs.append((A - B) + 2)\n",
        "    incorrect_outputs.append((A - B) - 2)\n",
        "    incorrect_outputs.append((A - B) / 2)\n",
        "\n",
        "    # Scenario 3: Both \"-\" and \"*\" operators are incorrect\n",
        "    incorrect_outputs.append((A + B) + 2)\n",
        "    incorrect_outputs.append((A + B) - 2)\n",
        "    incorrect_outputs.append((A + B) / 2)\n",
        "    incorrect_outputs.append((A * B) + 2)\n",
        "    incorrect_outputs.append((A * B) - 2)\n",
        "    incorrect_outputs.append((A * B) / 2)\n",
        "    if (B != 0): # constraint: divisor cannot be 0\n",
        "        incorrect_outputs.append((A / B) + 2)\n",
        "        incorrect_outputs.append((A / B) - 2)\n",
        "        incorrect_outputs.append((A / B) / 2)\n",
        "\n",
        "    return incorrect_outputs"
      ],
      "metadata": {
        "id": "gf0LZgOr1DXz"
      },
      "execution_count": 2,
      "outputs": []
    },
    {
      "cell_type": "code",
      "source": [
        "def task3():\n",
        "    distinct_outputs = []\n",
        "\n",
        "    for A in range(0, 5):\n",
        "        for B in range(0, 5):\n",
        "            if correct_program(A, B) not in incorrect_programs(A, B):\n",
        "                distinct_outputs.append({\"A=\" + str(A), \"B=\" + str(B)})\n",
        "\n",
        "    print(distinct_outputs)\n",
        "\n",
        "task3()"
      ],
      "metadata": {
        "colab": {
          "base_uri": "https://localhost:8080/"
        },
        "id": "kd5ET1Cusnvz",
        "outputId": "cbfad3ac-f9e2-4946-b93f-5ef5c5a71d63"
      },
      "execution_count": 3,
      "outputs": [
        {
          "output_type": "stream",
          "name": "stdout",
          "text": [
            "[{'B=3', 'A=0'}, {'A=0', 'B=4'}, {'B=2', 'A=1'}, {'A=1', 'B=4'}, {'B=1', 'A=2'}, {'B=3', 'A=2'}, {'B=2', 'A=3'}, {'B=4', 'A=3'}, {'B=3', 'A=4'}]\n"
          ]
        }
      ]
    },
    {
      "cell_type": "code",
      "source": [
        "def task4():\n",
        "    similar_outputs = []\n",
        "\n",
        "    # Given B = 1 as Task 4 requirement:\n",
        "    B = 1\n",
        "\n",
        "    for A in range(-1000000, 1000000):\n",
        "        # append A if the correct program's output is equal to the incorrect program's output\n",
        "        if correct_program(A, B) in incorrect_programs(A, B):\n",
        "            similar_outputs.append(A)\n",
        "\n",
        "    print(similar_outputs)\n",
        "\n",
        "task4()"
      ],
      "metadata": {
        "colab": {
          "base_uri": "https://localhost:8080/"
        },
        "id": "0HXM3zhHsopi",
        "outputId": "0776bc7e-7ac9-42ae-b5bf-3e2a43487ebe"
      },
      "execution_count": 4,
      "outputs": [
        {
          "output_type": "stream",
          "name": "stdout",
          "text": [
            "[-1, 0, 1, 3, 4, 5]\n"
          ]
        }
      ]
    }
  ]
}