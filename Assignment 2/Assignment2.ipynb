{
  "nbformat": 4,
  "nbformat_minor": 0,
  "metadata": {
    "colab": {
      "provenance": []
    },
    "kernelspec": {
      "name": "python3",
      "display_name": "Python 3"
    },
    "language_info": {
      "name": "python"
    }
  },
  "cells": [
    {
      "cell_type": "code",
      "execution_count": 1,
      "metadata": {
        "id": "XyYPlysQsKCM"
      },
      "outputs": [],
      "source": [
        "def split_and_sort(nums):\n",
        "    # check if input list length is less than or equal to 20\n",
        "    if len(nums) > 20:\n",
        "        return \"Error: Input list should not contain more than 20 integers.\"\n",
        "\n",
        "    # check if 0 is in the input list\n",
        "    if 0 in nums:\n",
        "        return \"Error: The number 0 is not a valid input.\"\n",
        "\n",
        "    # filter odd and even numbers into two separate lists\n",
        "    odd_nums = [num for num in nums if num % 2 == 1]\n",
        "    even_nums = [num for num in nums if num % 2 == 0]\n",
        "\n",
        "    # remove duplicates and sort\n",
        "    odd_nums = sorted(odd_nums)\n",
        "    even_nums = sorted(even_nums)\n",
        "\n",
        "    return odd_nums, even_nums"
      ]
    },
    {
      "cell_type": "code",
      "source": [
        "nums = [3, 10, 9, 20, 16, 10, 9, 15, 7, 5, 28, 20, 5, 8, 20]\n",
        "odd_nums, even_nums = split_and_sort(nums)\n",
        "\n",
        "print(\"Test case 1:\")\n",
        "print(\"Odd numbers:\", odd_nums)\n",
        "print(\"Even numbers:\", even_nums)"
      ],
      "metadata": {
        "colab": {
          "base_uri": "https://localhost:8080/"
        },
        "id": "_gdUX4BJsgLU",
        "outputId": "10e49a4b-c744-4708-b5e8-fa1b221f22d4"
      },
      "execution_count": 2,
      "outputs": [
        {
          "output_type": "stream",
          "name": "stdout",
          "text": [
            "Test case 1:\n",
            "Odd numbers: [3, 5, 5, 7, 9, 9, 15]\n",
            "Even numbers: [8, 10, 10, 16, 20, 20, 20, 28]\n"
          ]
        }
      ]
    },
    {
      "cell_type": "code",
      "source": [
        "nums = [13, 7, 9, 15]\n",
        "odd_nums, even_nums = split_and_sort(nums)\n",
        "\n",
        "print(\"Test case 2:\")\n",
        "print(\"Odd numbers:\", odd_nums)\n",
        "print(\"Even numbers:\", even_nums)"
      ],
      "metadata": {
        "colab": {
          "base_uri": "https://localhost:8080/"
        },
        "id": "2qqk6fs4vqp4",
        "outputId": "1347082c-a294-4cc1-fbf7-ce86860508b7"
      },
      "execution_count": 3,
      "outputs": [
        {
          "output_type": "stream",
          "name": "stdout",
          "text": [
            "Test case 2:\n",
            "Odd numbers: [7, 9, 13, 15]\n",
            "Even numbers: []\n"
          ]
        }
      ]
    },
    {
      "cell_type": "code",
      "source": [
        "nums = [12, 4, 8, 6]\n",
        "odd_nums, even_nums = split_and_sort(nums)\n",
        "\n",
        "print(\"Test case 3:\")\n",
        "print(\"Odd numbers:\", odd_nums)\n",
        "print(\"Even numbers:\", even_nums)"
      ],
      "metadata": {
        "colab": {
          "base_uri": "https://localhost:8080/"
        },
        "id": "FW7gvzxX4-vw",
        "outputId": "83dab49b-5671-4a2b-f31b-c88213f045db"
      },
      "execution_count": 4,
      "outputs": [
        {
          "output_type": "stream",
          "name": "stdout",
          "text": [
            "Test case 3:\n",
            "Odd numbers: []\n",
            "Even numbers: [4, 6, 8, 12]\n"
          ]
        }
      ]
    },
    {
      "cell_type": "code",
      "source": [
        "nums = []\n",
        "odd_nums, even_nums = split_and_sort(nums)\n",
        "\n",
        "print(\"Test case 4:\")\n",
        "print(\"Odd numbers:\", odd_nums)\n",
        "print(\"Even numbers:\", even_nums)"
      ],
      "metadata": {
        "colab": {
          "base_uri": "https://localhost:8080/"
        },
        "id": "48rLEKVg5Tc5",
        "outputId": "b1d96658-839a-4f9d-f570-716b5bd57952"
      },
      "execution_count": 5,
      "outputs": [
        {
          "output_type": "stream",
          "name": "stdout",
          "text": [
            "Test case 4:\n",
            "Odd numbers: []\n",
            "Even numbers: []\n"
          ]
        }
      ]
    },
    {
      "cell_type": "code",
      "source": [
        "nums = [3, 10, 9, 20, 16, 15, 7, 5, 28, 5, 8, 20]\n",
        "odd_nums, even_nums = split_and_sort(nums)\n",
        "\n",
        "print(\"Test case 5:\")\n",
        "print(\"Odd numbers:\", odd_nums)\n",
        "print(\"Even numbers:\", even_nums)"
      ],
      "metadata": {
        "colab": {
          "base_uri": "https://localhost:8080/"
        },
        "id": "y9gjRF_9Ee5u",
        "outputId": "ec7680ec-4667-45ac-d6fe-121518c16c9f"
      },
      "execution_count": 6,
      "outputs": [
        {
          "output_type": "stream",
          "name": "stdout",
          "text": [
            "Test case 5:\n",
            "Odd numbers: [3, 5, 5, 7, 9, 15]\n",
            "Even numbers: [8, 10, 16, 20, 20, 28]\n"
          ]
        }
      ]
    },
    {
      "cell_type": "code",
      "source": [
        "nums = [12, 32, 35, 35, 39, 64, 64, 67, 72, 98]\n",
        "odd_nums, even_nums = split_and_sort(nums)\n",
        "\n",
        "print(\"Test case 6:\")\n",
        "print(\"Odd numbers:\", odd_nums)\n",
        "print(\"Even numbers:\", even_nums)"
      ],
      "metadata": {
        "colab": {
          "base_uri": "https://localhost:8080/"
        },
        "id": "kjD4bUB6yDOR",
        "outputId": "dd9309aa-e768-4c9e-e2d3-dc26eb912980"
      },
      "execution_count": 7,
      "outputs": [
        {
          "output_type": "stream",
          "name": "stdout",
          "text": [
            "Test case 6:\n",
            "Odd numbers: [35, 35, 39, 67]\n",
            "Even numbers: [12, 32, 64, 64, 72, 98]\n"
          ]
        }
      ]
    }
  ]
}