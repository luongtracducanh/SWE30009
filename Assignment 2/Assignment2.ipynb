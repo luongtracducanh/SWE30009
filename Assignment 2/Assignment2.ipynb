{
  "nbformat": 4,
  "nbformat_minor": 0,
  "metadata": {
    "colab": {
      "provenance": []
    },
    "kernelspec": {
      "name": "python3",
      "display_name": "Python 3"
    },
    "language_info": {
      "name": "python"
    }
  },
  "cells": [
    {
      "cell_type": "code",
      "execution_count": 1,
      "metadata": {
        "id": "XyYPlysQsKCM"
      },
      "outputs": [],
      "source": [
        "def split_and_sort(nums):\n",
        "    # check if input list length is less than or equal to 20\n",
        "    if len(nums) > 20:\n",
        "        return \"Error: Input list should not contain more than 20 integers.\"\n",
        "\n",
        "    # check if 0 is in the input list\n",
        "    if 0 in nums:\n",
        "        return \"Error: The number 0 is not a valid input.\"\n",
        "\n",
        "    # filter odd and even numbers into two separate lists\n",
        "    odd_nums = [num for num in nums if num % 2 == 1]\n",
        "    even_nums = [num for num in nums if num % 2 == 0]\n",
        "\n",
        "    # remove duplicates and sort\n",
        "    odd_nums = sorted(odd_nums)\n",
        "    even_nums = sorted(even_nums)\n",
        "\n",
        "    return odd_nums, even_nums"
      ]
    },
    {
      "cell_type": "code",
      "source": [
        "nums = [3, 10, 9, 20, 16, 10, 9, 15, 7, 5, 28, 20, 5, 8, 20]\n",
        "odd_nums, even_nums = split_and_sort(nums)\n",
        "\n",
        "print(\"Test case 1:\")\n",
        "print(\"Odd numbers:\", odd_nums)\n",
        "print(\"Even numbers:\", even_nums)"
      ],
      "metadata": {
        "colab": {
          "base_uri": "https://localhost:8080/"
        },
        "id": "_gdUX4BJsgLU",
        "outputId": "b53e18a6-05fd-4fcf-cec1-1c359c9fca60"
      },
      "execution_count": 2,
      "outputs": [
        {
          "output_type": "stream",
          "name": "stdout",
          "text": [
            "Test case 1:\n",
            "Odd numbers: [3, 5, 5, 7, 9, 9, 15]\n",
            "Even numbers: [8, 10, 10, 16, 20, 20, 20, 28]\n"
          ]
        }
      ]
    },
    {
      "cell_type": "code",
      "source": [
        "nums = [13, 7, 9, 15]\n",
        "odd_nums, even_nums = split_and_sort(nums)\n",
        "\n",
        "print(\"Test case 2:\")\n",
        "print(\"Odd numbers:\", odd_nums)\n",
        "print(\"Even numbers:\", even_nums)"
      ],
      "metadata": {
        "colab": {
          "base_uri": "https://localhost:8080/"
        },
        "id": "2qqk6fs4vqp4",
        "outputId": "ffa04b79-1ec9-4fc1-8626-ed87bf413844"
      },
      "execution_count": 3,
      "outputs": [
        {
          "output_type": "stream",
          "name": "stdout",
          "text": [
            "Test case 2:\n",
            "Odd numbers: [7, 9, 13, 15]\n",
            "Even numbers: []\n"
          ]
        }
      ]
    },
    {
      "cell_type": "code",
      "source": [
        "nums = [12, 4, 8, 6]\n",
        "odd_nums, even_nums = split_and_sort(nums)\n",
        "\n",
        "print(\"Test case 3:\")\n",
        "print(\"Odd numbers:\", odd_nums)\n",
        "print(\"Even numbers:\", even_nums)"
      ],
      "metadata": {
        "colab": {
          "base_uri": "https://localhost:8080/"
        },
        "id": "FW7gvzxX4-vw",
        "outputId": "f432b66b-1ae0-4bd8-836f-96d83fdb252e"
      },
      "execution_count": 4,
      "outputs": [
        {
          "output_type": "stream",
          "name": "stdout",
          "text": [
            "Test case 3:\n",
            "Odd numbers: []\n",
            "Even numbers: [4, 6, 8, 12]\n"
          ]
        }
      ]
    },
    {
      "cell_type": "code",
      "source": [
        "nums = []\n",
        "odd_nums, even_nums = split_and_sort(nums)\n",
        "\n",
        "print(\"Test case 4:\")\n",
        "print(\"Odd numbers:\", odd_nums)\n",
        "print(\"Even numbers:\", even_nums)"
      ],
      "metadata": {
        "colab": {
          "base_uri": "https://localhost:8080/"
        },
        "id": "48rLEKVg5Tc5",
        "outputId": "a98f7927-942f-4c02-a961-7b404ea4ef9f"
      },
      "execution_count": 5,
      "outputs": [
        {
          "output_type": "stream",
          "name": "stdout",
          "text": [
            "Test case 4:\n",
            "Odd numbers: []\n",
            "Even numbers: []\n"
          ]
        }
      ]
    },
    {
      "cell_type": "code",
      "source": [
        "nums = [3, 10, 9, 20, 16, 15, 7, 5, 28, 5, 8, 20]\n",
        "odd_nums, even_nums = split_and_sort(nums)\n",
        "\n",
        "print(\"Test case 5:\")\n",
        "print(\"Odd numbers:\", odd_nums)\n",
        "print(\"Even numbers:\", even_nums)"
      ],
      "metadata": {
        "colab": {
          "base_uri": "https://localhost:8080/"
        },
        "id": "y9gjRF_9Ee5u",
        "outputId": "937f5801-9132-4a0e-c902-7d16ca31eec8"
      },
      "execution_count": 6,
      "outputs": [
        {
          "output_type": "stream",
          "name": "stdout",
          "text": [
            "Test case 5:\n",
            "Odd numbers: [3, 5, 5, 7, 9, 15]\n",
            "Even numbers: [8, 10, 16, 20, 20, 28]\n"
          ]
        }
      ]
    },
    {
      "cell_type": "code",
      "source": [
        "nums = [12, 32, 35, 35, 39, 64, 64, 67, 72, 98]\n",
        "odd_nums, even_nums = split_and_sort(nums)\n",
        "\n",
        "print(\"Test case 6:\")\n",
        "print(\"Odd numbers:\", odd_nums)\n",
        "print(\"Even numbers:\", even_nums)"
      ],
      "metadata": {
        "colab": {
          "base_uri": "https://localhost:8080/"
        },
        "id": "kjD4bUB6yDOR",
        "outputId": "19606200-b8c8-40b9-fb5f-5fb9731be9da"
      },
      "execution_count": 7,
      "outputs": [
        {
          "output_type": "stream",
          "name": "stdout",
          "text": [
            "Test case 6:\n",
            "Odd numbers: [35, 35, 39, 67]\n",
            "Even numbers: [12, 32, 64, 64, 72, 98]\n"
          ]
        }
      ]
    }
  ]
}